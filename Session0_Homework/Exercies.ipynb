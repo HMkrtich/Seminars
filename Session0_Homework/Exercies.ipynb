{
 "cells": [
  {
   "cell_type": "markdown",
   "metadata": {},
   "source": [
    "## Ex. 1"
   ]
  },
  {
   "cell_type": "markdown",
   "metadata": {},
   "source": [
    "$$  \n",
    "\\frac{d}{dx_1} x^t x = \\frac{d}{dx_1} \\left( \\sum x_i^2\\right) = \\frac{d}{dx_1} x_1^2 = 2x_1\n",
    "$$"
   ]
  },
  {
   "cell_type": "markdown",
   "metadata": {},
   "source": [
    "after doing this for every i index we will get"
   ]
  },
  {
   "cell_type": "markdown",
   "metadata": {},
   "source": [
    "$$\n",
    "  \\frac{d}{dx} x^t x = 2x^t\n",
    "$$"
   ]
  },
  {
   "cell_type": "markdown",
   "metadata": {},
   "source": [
    "we got transpose becuase it is in 1*n space"
   ]
  },
  {
   "cell_type": "markdown",
   "metadata": {},
   "source": [
    "## Ex. 2"
   ]
  },
  {
   "cell_type": "markdown",
   "metadata": {},
   "source": [
    "$$ y = tr(AB) \\quad A,B \\in \\mathbb{R}^{N \\times N} $$ "
   ]
  },
  {
   "cell_type": "markdown",
   "metadata": {},
   "source": [
    "$$\n",
    "\\frac{\\partial}{\\partial a_{ij}} y = ?\n",
    "$$"
   ]
  },
  {
   "cell_type": "markdown",
   "metadata": {},
   "source": [
    "$$ tr(AB)=\\sum_{i=1}^{n} a_{1i}b_{i1} + \\sum_{i=1}^{n} a_{2i}b_{i2} + \\ ... \\sum_{i=1}^{n} a_{ni}b_{in}$$"
   ]
  },
  {
   "cell_type": "markdown",
   "metadata": {},
   "source": [
    "implies that $$ \n",
    "\\frac{\\partial}{\\partial a_{ij}} y = b_{ji}\n",
    "$$"
   ]
  },
  {
   "cell_type": "markdown",
   "metadata": {},
   "source": [
    "and $$\n",
    "\\frac{dy}{dA} = B^T\n",
    "$$"
   ]
  },
  {
   "cell_type": "markdown",
   "metadata": {},
   "source": [
    "## Ex. 3"
   ]
  },
  {
   "cell_type": "markdown",
   "metadata": {},
   "source": [
    "$$  \n",
    "y = \\sum_{j=1}^{n}\\sum_{i=1}^n a_{ij}x_{i}c_{j}\n",
    "$$"
   ]
  },
  {
   "cell_type": "markdown",
   "metadata": {},
   "source": [
    "$$\n",
    "\\frac{dy}{dA} = \\sum_{j=1}^{n} c_{j} \\sum_{i=1}^n x_{i}=xc^T\n",
    "$$ "
   ]
  },
  {
   "cell_type": "markdown",
   "metadata": {},
   "source": [
    "## Ex. 4"
   ]
  },
  {
   "cell_type": "markdown",
   "metadata": {},
   "source": [
    "$$ || X - AS ||_2^2=tr((X - AS)(X - AS)^T)=tr((X-AS)(X^T-S^TA^T))=$$\n",
    "$$= tr(XX^T)-tr(XS^TA^T)-tr(ASX^T)+tr(ASS^TA^T)$$"
   ]
  },
  {
   "cell_type": "markdown",
   "metadata": {},
   "source": [
    "we do not need \n",
    "$$ tr(XX^T) $$ \n",
    "as it does not contain \n",
    "$$ S $$"
   ]
  },
  {
   "cell_type": "markdown",
   "metadata": {},
   "source": [
    "we have  \n",
    "$$\n",
    "\\frac{d(-tr(X^TAS)-tr(AX^TS)+tr(AA^TS^TS))}{dS} = -(X^TA)^T-(AX^T)^T+ASA^T+A^TSA=ASA^T+A^TSA-A^TX-XA^T\n",
    "$$"
   ]
  },
  {
   "cell_type": "markdown",
   "metadata": {},
   "source": [
    "for last one I used the  Funky trace derivative from https://web.stanford.edu/~jduchi/projects/matrix_prop.pdf"
   ]
  },
  {
   "cell_type": "code",
   "execution_count": null,
   "metadata": {},
   "outputs": [],
   "source": []
  }
 ],
 "metadata": {
  "kernelspec": {
   "display_name": "Python 3",
   "language": "python",
   "name": "python3"
  },
  "language_info": {
   "codemirror_mode": {
    "name": "ipython",
    "version": 3
   },
   "file_extension": ".py",
   "mimetype": "text/x-python",
   "name": "python",
   "nbconvert_exporter": "python",
   "pygments_lexer": "ipython3",
   "version": "3.8.5"
  }
 },
 "nbformat": 4,
 "nbformat_minor": 4
}
